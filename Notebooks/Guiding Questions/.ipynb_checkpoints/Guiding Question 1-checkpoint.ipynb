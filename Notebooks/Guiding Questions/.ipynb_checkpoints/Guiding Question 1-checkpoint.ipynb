{
 "cells": [
  {
   "cell_type": "code",
   "execution_count": 1,
   "id": "80b824ba-43e2-4abc-a12a-fcd09479cb46",
   "metadata": {},
   "outputs": [],
   "source": [
    "import pandas as pd \n",
    "import geopandas as gpd"
   ]
  },
  {
   "cell_type": "code",
   "execution_count": 2,
   "id": "e02991e6-fdfd-4214-b8e6-878385ed450d",
   "metadata": {},
   "outputs": [
    {
     "ename": "NameError",
     "evalue": "name 'airbnb_raw_plus_review' is not defined",
     "output_type": "error",
     "traceback": [
      "\u001b[0;31m---------------------------------------------------------------------------\u001b[0m",
      "\u001b[0;31mNameError\u001b[0m                                 Traceback (most recent call last)",
      "Input \u001b[0;32mIn [2]\u001b[0m, in \u001b[0;36m<cell line: 10>\u001b[0;34m()\u001b[0m\n\u001b[1;32m      7\u001b[0m cendf_2 \u001b[38;5;241m=\u001b[39m cendf\n\u001b[1;32m      9\u001b[0m \u001b[38;5;66;03m# Filter cleaned file to only Paris\u001b[39;00m\n\u001b[0;32m---> 10\u001b[0m paris_df_map \u001b[38;5;241m=\u001b[39m \u001b[43mairbnb_raw_plus_review\u001b[49m[(airbnb_raw_plus_review[\u001b[38;5;124m'\u001b[39m\u001b[38;5;124mcity\u001b[39m\u001b[38;5;124m'\u001b[39m]\u001b[38;5;241m==\u001b[39m\u001b[38;5;124m'\u001b[39m\u001b[38;5;124mParis\u001b[39m\u001b[38;5;124m'\u001b[39m)]\u001b[38;5;241m.\u001b[39mreset_index()\n\u001b[1;32m     12\u001b[0m \u001b[38;5;66;03m#combine the long and lat as coordinates\u001b[39;00m\n\u001b[1;32m     13\u001b[0m paris_df_map[\u001b[38;5;124m'\u001b[39m\u001b[38;5;124mcoordinates\u001b[39m\u001b[38;5;124m'\u001b[39m] \u001b[38;5;241m=\u001b[39m \u001b[38;5;28mlist\u001b[39m(\u001b[38;5;28mzip\u001b[39m(paris_df_map[\u001b[38;5;124m\"\u001b[39m\u001b[38;5;124mlongitude\u001b[39m\u001b[38;5;124m\"\u001b[39m], paris_df_map[\u001b[38;5;124m\"\u001b[39m\u001b[38;5;124mlatitude\u001b[39m\u001b[38;5;124m\"\u001b[39m]))\n",
      "\u001b[0;31mNameError\u001b[0m: name 'airbnb_raw_plus_review' is not defined"
     ]
    }
   ],
   "source": [
    "#read the GeoJson file\n",
    "census_file = 'https://raw.githubusercontent.com/imadahmad97/EDA-of-Airbnb-Data/main/DataSets/GEOJSON%20Files/communes-75-paris.geojson'\n",
    "cendf = gpd.read_file(census_file)\n",
    "\n",
    "# Let's index by district name\n",
    "cendf.set_index('nom', inplace=True)\n",
    "cendf_2 = cendf\n",
    "\n",
    "# Filter cleaned file to only Paris\n",
    "paris_df_map = airbnb_raw_plus_review[(airbnb_raw_plus_review['city']=='Paris')].reset_index()\n",
    "\n",
    "#combine the long and lat as coordinates\n",
    "paris_df_map['coordinates'] = list(zip(paris_df_map[\"longitude\"], paris_df_map[\"latitude\"]))\n",
    "paris_df_map['coordinates'] = paris_df_map['coordinates'].apply(Point)\n",
    "locsdf = gpd.GeoDataFrame(paris_df_map, geometry='coordinates')\n",
    "locsdf = locsdf.set_crs(epsg=4326) \n",
    "\n",
    "output_dict=dict() \n",
    "coordinates = paris_df_map['coordinates'].tolist()\n",
    "count_of_review = paris_df_map['review_id_distinct_count'].tolist()\n",
    "geo = cendf_2['geometry'].tolist()\n",
    "district_code = cendf_2['code'].tolist()\n",
    "output_dict=dict() \n",
    "for j in range(len(geo)):\n",
    "    for i in range(len(coordinates)):\n",
    "        if geo[j].contains(coordinates[i]):\n",
    "            if district_code[j] in output_dict:\n",
    "                if not (np.isnan(count_of_review[i])):\n",
    "                    output_dict[district_code[j]]+=count_of_review[i]\n",
    "            else:\n",
    "                if not (np.isnan(count_of_review[i])):\n",
    "                    output_dict[district_code[j]]=count_of_review[i]\n",
    "\n",
    "output_dict_paris = output_dict\n",
    "\n",
    "#turn the dictionary to dataframe, then left join to the cendf file\n",
    "output_dict_df = pd.DataFrame(output_dict_paris.items(), columns=['code', 'review_count'])\n",
    "cendf_2['nom'] = cendf_2.index\n",
    "cendf_3 = pd.merge(cendf_2, output_dict_df , on='code', how='left')\n",
    "cendf_3.set_index('nom', inplace=True)\n",
    "\n",
    "# Choropleth map of calgary resident count via px.choropleth_mapbox()\n",
    "cendf_4 = cendf_3.to_crs(epsg=4326)\n",
    "\n",
    "# plot the map\n",
    "fig = px.choropleth_mapbox(cendf_4, geojson=cendf_4,\n",
    "                           locations=cendf_4.index, \n",
    "                           color=\"review_count\",\n",
    "                           color_continuous_scale = 'YlGn',\n",
    "                           center={\"lat\": 48.8566, \"lon\": 2.3522}, # Paris\n",
    "                           mapbox_style=\"carto-positron\",\n",
    "                           opacity=0.75,\n",
    "                           zoom=10, \n",
    "                           title = 'Paris Review Density')\n",
    "\n",
    "fig.update_layout(margin={\"r\":50,\"t\":50,\"l\":50,\"b\":50}, \n",
    "                  autosize=True,\n",
    "                  height=600 )\n",
    "\n",
    "fig.show()"
   ]
  },
  {
   "cell_type": "code",
   "execution_count": null,
   "id": "aa9022fe-9f34-4209-ab93-f2c53936ef81",
   "metadata": {},
   "outputs": [],
   "source": []
  }
 ],
 "metadata": {
  "kernelspec": {
   "display_name": "Python 3 (ipykernel)",
   "language": "python",
   "name": "python3"
  },
  "language_info": {
   "codemirror_mode": {
    "name": "ipython",
    "version": 3
   },
   "file_extension": ".py",
   "mimetype": "text/x-python",
   "name": "python",
   "nbconvert_exporter": "python",
   "pygments_lexer": "ipython3",
   "version": "3.9.12"
  }
 },
 "nbformat": 4,
 "nbformat_minor": 5
}
