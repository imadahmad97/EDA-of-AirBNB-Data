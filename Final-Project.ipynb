{
 "cells": [
  {
   "cell_type": "markdown",
   "id": "8e4d3ed7-0d61-470d-9b91-d9145df8b968",
   "metadata": {
    "tags": []
   },
   "source": [
    "# **Exploratory Data Analysis of Airbnb Data**"
   ]
  },
  {
   "cell_type": "markdown",
   "id": "d0bdc157-b0e9-43b7-ab7f-94f4c43c202a",
   "metadata": {
    "tags": []
   },
   "source": [
    "### Imad Ahmad, Ibtassam Racheed, Yip Chi Man"
   ]
  },
  {
   "cell_type": "markdown",
   "id": "13a8e99e-d088-4e7a-9a76-01c2b8d89b28",
   "metadata": {
    "tags": []
   },
   "source": [
    "# Introduction"
   ]
  },
  {
   "cell_type": "markdown",
   "id": "06cb6da0-799f-4a92-a017-40a6d3cee374",
   "metadata": {},
   "source": [
    "# Guiding Questions"
   ]
  },
  {
   "cell_type": "markdown",
   "id": "a06d2d95-3fa7-417b-8207-6e190a21174a",
   "metadata": {
    "tags": []
   },
   "source": [
    "# Dataset"
   ]
  },
  {
   "cell_type": "markdown",
   "id": "83115e86-59a9-4c0f-a4b1-438792397857",
   "metadata": {
    "tags": []
   },
   "source": [
    "## Data Cleaning"
   ]
  },
  {
   "cell_type": "markdown",
   "id": "e4175461-b174-4b23-8d32-f15aef6d5da0",
   "metadata": {},
   "source": [
    "### Step 1: Imported relevant libraries and read in the data file"
   ]
  },
  {
   "cell_type": "code",
   "execution_count": null,
   "id": "06c02861-cbe8-4666-8b28-0997dd00f468",
   "metadata": {},
   "outputs": [],
   "source": [
    "import pandas as pd\n",
    "import numpy as np\n",
    "from datetime import date\n",
    "import geopandas as gpd\n",
    "import matplotlib as mpl\n",
    "import matplotlib.pyplot as plt\n",
    "import plotly.express as px\n",
    "from shapely.geometry import Point\n",
    "from shapely.geometry.polygon import Polygon\n",
    "import warnings\n",
    "import seaborn as sns\n",
    "from wordcloud import WordCloud, STOPWORDS, ImageColorGenerator"
   ]
  },
  {
   "cell_type": "code",
   "execution_count": null,
   "id": "aa798ddb-8eb2-404d-8ed8-93a514ef8ed2",
   "metadata": {},
   "outputs": [],
   "source": []
  },
  {
   "cell_type": "code",
   "execution_count": null,
   "id": "fb85551b-3807-4c9a-ad56-1b99dc6e5d0b",
   "metadata": {},
   "outputs": [],
   "source": []
  },
  {
   "cell_type": "code",
   "execution_count": null,
   "id": "423dd302-6d98-4850-85cb-8fbf8d593bd9",
   "metadata": {},
   "outputs": [],
   "source": []
  },
  {
   "cell_type": "code",
   "execution_count": null,
   "id": "6cf2d4bb-86c3-4b9d-a671-5ea1a4bcb86d",
   "metadata": {},
   "outputs": [],
   "source": []
  },
  {
   "cell_type": "code",
   "execution_count": null,
   "id": "f3f34de0-56f3-4236-babb-4efb9fb19cce",
   "metadata": {},
   "outputs": [],
   "source": []
  },
  {
   "cell_type": "code",
   "execution_count": null,
   "id": "4838ec90-5eb4-4d00-aa47-2e190dffc39e",
   "metadata": {},
   "outputs": [],
   "source": []
  },
  {
   "cell_type": "code",
   "execution_count": null,
   "id": "a910d2d8-fffb-48ad-abc6-ae6b1abbf356",
   "metadata": {},
   "outputs": [],
   "source": []
  },
  {
   "cell_type": "code",
   "execution_count": null,
   "id": "ae9b7025-0682-4819-adb0-65e977ba7e28",
   "metadata": {},
   "outputs": [],
   "source": []
  },
  {
   "cell_type": "code",
   "execution_count": null,
   "id": "05b0318a-785f-498a-a8b6-0f1fe3b63365",
   "metadata": {},
   "outputs": [],
   "source": []
  },
  {
   "cell_type": "markdown",
   "id": "c3d32c4d-cb9d-4994-a553-a9ab44b07f93",
   "metadata": {},
   "source": [
    "# Analysis"
   ]
  },
  {
   "cell_type": "markdown",
   "id": "249cc8de-c9a7-44d3-a016-7e64799a325a",
   "metadata": {},
   "source": [
    "# Conclusion"
   ]
  },
  {
   "cell_type": "markdown",
   "id": "95b39338-63bc-4257-8bc7-c9a64b18f6e7",
   "metadata": {},
   "source": [
    "## References"
   ]
  },
  {
   "cell_type": "code",
   "execution_count": null,
   "id": "0449fd26-a7d7-4b84-82df-80c58b8a8a0b",
   "metadata": {},
   "outputs": [],
   "source": []
  }
 ],
 "metadata": {
  "kernelspec": {
   "display_name": "Python 3 (ipykernel)",
   "language": "python",
   "name": "python3"
  },
  "language_info": {
   "codemirror_mode": {
    "name": "ipython",
    "version": 3
   },
   "file_extension": ".py",
   "mimetype": "text/x-python",
   "name": "python",
   "nbconvert_exporter": "python",
   "pygments_lexer": "ipython3",
   "version": "3.9.12"
  }
 },
 "nbformat": 4,
 "nbformat_minor": 5
}
