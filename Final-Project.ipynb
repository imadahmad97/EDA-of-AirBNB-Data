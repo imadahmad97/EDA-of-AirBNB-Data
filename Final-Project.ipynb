{
 "cells": [
  {
   "cell_type": "markdown",
   "id": "8e4d3ed7-0d61-470d-9b91-d9145df8b968",
   "metadata": {},
   "source": [
    "# **Exploratory Data Analysis of Airbnb Data**"
   ]
  },
  {
   "cell_type": "markdown",
   "id": "d0bdc157-b0e9-43b7-ab7f-94f4c43c202a",
   "metadata": {},
   "source": [
    "### Imad Ahmad, Ibtassam Racheed, Yip Chi Man"
   ]
  },
  {
   "cell_type": "markdown",
   "id": "13a8e99e-d088-4e7a-9a76-01c2b8d89b28",
   "metadata": {},
   "source": [
    "## Introduction"
   ]
  },
  {
   "cell_type": "markdown",
   "id": "06cb6da0-799f-4a92-a017-40a6d3cee374",
   "metadata": {},
   "source": [
    "# Guiding Questions"
   ]
  },
  {
   "cell_type": "markdown",
   "id": "a06d2d95-3fa7-417b-8207-6e190a21174a",
   "metadata": {},
   "source": [
    "# Dataset"
   ]
  },
  {
   "cell_type": "markdown",
   "id": "c3d32c4d-cb9d-4994-a553-a9ab44b07f93",
   "metadata": {},
   "source": [
    "# Analysis"
   ]
  },
  {
   "cell_type": "markdown",
   "id": "249cc8de-c9a7-44d3-a016-7e64799a325a",
   "metadata": {},
   "source": [
    "# Conclusion"
   ]
  },
  {
   "cell_type": "markdown",
   "id": "95b39338-63bc-4257-8bc7-c9a64b18f6e7",
   "metadata": {},
   "source": [
    "## References"
   ]
  },
  {
   "cell_type": "code",
   "execution_count": null,
   "id": "0449fd26-a7d7-4b84-82df-80c58b8a8a0b",
   "metadata": {},
   "outputs": [],
   "source": []
  }
 ],
 "metadata": {
  "kernelspec": {
   "display_name": "Python 3 (ipykernel)",
   "language": "python",
   "name": "python3"
  },
  "language_info": {
   "codemirror_mode": {
    "name": "ipython",
    "version": 3
   },
   "file_extension": ".py",
   "mimetype": "text/x-python",
   "name": "python",
   "nbconvert_exporter": "python",
   "pygments_lexer": "ipython3",
   "version": "3.9.12"
  }
 },
 "nbformat": 4,
 "nbformat_minor": 5
}
