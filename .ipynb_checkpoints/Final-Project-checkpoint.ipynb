{
 "cells": [
  {
   "cell_type": "markdown",
   "id": "8e4d3ed7-0d61-470d-9b91-d9145df8b968",
   "metadata": {
    "tags": []
   },
   "source": [
    "# **Exploratory Data Analysis of Airbnb Data**"
   ]
  },
  {
   "cell_type": "markdown",
   "id": "d0bdc157-b0e9-43b7-ab7f-94f4c43c202a",
   "metadata": {
    "tags": []
   },
   "source": [
    "### Imad Ahmad, Ibtassam Racheed, Yip Chi Man"
   ]
  },
  {
   "cell_type": "markdown",
   "id": "13a8e99e-d088-4e7a-9a76-01c2b8d89b28",
   "metadata": {
    "tags": []
   },
   "source": [
    "# Introduction"
   ]
  },
  {
   "cell_type": "markdown",
   "id": "06cb6da0-799f-4a92-a017-40a6d3cee374",
   "metadata": {},
   "source": [
    "# Guiding Questions"
   ]
  },
  {
   "cell_type": "markdown",
   "id": "a06d2d95-3fa7-417b-8207-6e190a21174a",
   "metadata": {
    "tags": []
   },
   "source": [
    "# Dataset"
   ]
  },
  {
   "cell_type": "markdown",
   "id": "83115e86-59a9-4c0f-a4b1-438792397857",
   "metadata": {
    "tags": []
   },
   "source": [
    "## Data Cleaning"
   ]
  },
  {
   "cell_type": "markdown",
   "id": "e4175461-b174-4b23-8d32-f15aef6d5da0",
   "metadata": {},
   "source": [
    "import pandas as pd\n",
    "import numpy as np\n",
    "from datetime import date\n",
    "import geopandas as gpd\n",
    "import matplotlib as mpl\n",
    "import matplotlib.pyplot as plt\n",
    "import plotly.express as px\n",
    "from shapely.geometry import Point\n",
    "from shapely.geometry.polygon import Polygon\n",
    "import warnings\n",
    "import seaborn as sns\n",
    "from wordcloud import WordCloud, STOPWORDS, ImageColorGenerator\n",
    "warnings.filterwarnings(\"ignore\")\n",
    "airbnb_raw = pd.read_csv('DataSet/Listings.csv', encoding='iso-8859-1')\n",
    "airbnb_raw.head()"
   ]
  },
  {
   "cell_type": "code",
   "execution_count": 18,
   "id": "06c02861-cbe8-4666-8b28-0997dd00f468",
   "metadata": {},
   "outputs": [
    {
     "ename": "SyntaxError",
     "evalue": "invalid syntax (3835557560.py, line 1)",
     "output_type": "error",
     "traceback": [
      "\u001b[0;36m  Input \u001b[0;32mIn [18]\u001b[0;36m\u001b[0m\n\u001b[0;31m    jupyter contrib nbextension install --user\u001b[0m\n\u001b[0m            ^\u001b[0m\n\u001b[0;31mSyntaxError\u001b[0m\u001b[0;31m:\u001b[0m invalid syntax\n"
     ]
    }
   ],
   "source": [
    "jupyter contrib nbextension install --user "
   ]
  },
  {
   "cell_type": "code",
   "execution_count": 1,
   "id": "aa798ddb-8eb2-404d-8ed8-93a514ef8ed2",
   "metadata": {},
   "outputs": [
    {
     "name": "stdout",
     "output_type": "stream",
     "text": [
      "Collecting jupyterlab-lsp\n",
      "  Downloading jupyterlab_lsp-3.10.2-py3-none-any.whl (550 kB)\n",
      "\u001b[K     |████████████████████████████████| 550 kB 2.3 MB/s eta 0:00:01\n",
      "\u001b[?25hCollecting jupyter-lsp>=1.4.0\n",
      "  Downloading jupyter_lsp-1.5.1-py3-none-any.whl (54 kB)\n",
      "\u001b[K     |████████████████████████████████| 54 kB 5.0 MB/s eta 0:00:011\n",
      "\u001b[?25hRequirement already satisfied: jupyterlab<4.0.0a0,>=3.1.0 in /Users/imadahmad/opt/anaconda3/lib/python3.9/site-packages (from jupyterlab-lsp) (3.3.2)\n",
      "Requirement already satisfied: jupyter-server>=1.1.2 in /Users/imadahmad/opt/anaconda3/lib/python3.9/site-packages (from jupyter-lsp>=1.4.0->jupyterlab-lsp) (1.13.5)\n",
      "Requirement already satisfied: entrypoints in /Users/imadahmad/opt/anaconda3/lib/python3.9/site-packages (from jupyter-lsp>=1.4.0->jupyterlab-lsp) (0.4)\n",
      "Requirement already satisfied: tornado>=6.1.0 in /Users/imadahmad/opt/anaconda3/lib/python3.9/site-packages (from jupyter-server>=1.1.2->jupyter-lsp>=1.4.0->jupyterlab-lsp) (6.1)\n",
      "Requirement already satisfied: argon2-cffi in /Users/imadahmad/opt/anaconda3/lib/python3.9/site-packages (from jupyter-server>=1.1.2->jupyter-lsp>=1.4.0->jupyterlab-lsp) (21.3.0)\n",
      "Requirement already satisfied: nbformat in /Users/imadahmad/opt/anaconda3/lib/python3.9/site-packages (from jupyter-server>=1.1.2->jupyter-lsp>=1.4.0->jupyterlab-lsp) (5.3.0)\n",
      "Requirement already satisfied: jupyter-core>=4.6.0 in /Users/imadahmad/opt/anaconda3/lib/python3.9/site-packages (from jupyter-server>=1.1.2->jupyter-lsp>=1.4.0->jupyterlab-lsp) (4.9.2)\n",
      "Requirement already satisfied: Send2Trash in /Users/imadahmad/opt/anaconda3/lib/python3.9/site-packages (from jupyter-server>=1.1.2->jupyter-lsp>=1.4.0->jupyterlab-lsp) (1.8.0)\n",
      "Requirement already satisfied: jupyter-client>=6.1.1 in /Users/imadahmad/opt/anaconda3/lib/python3.9/site-packages (from jupyter-server>=1.1.2->jupyter-lsp>=1.4.0->jupyterlab-lsp) (6.1.12)\n",
      "Requirement already satisfied: ipython-genutils in /Users/imadahmad/opt/anaconda3/lib/python3.9/site-packages (from jupyter-server>=1.1.2->jupyter-lsp>=1.4.0->jupyterlab-lsp) (0.2.0)\n",
      "Requirement already satisfied: nbconvert in /Users/imadahmad/opt/anaconda3/lib/python3.9/site-packages (from jupyter-server>=1.1.2->jupyter-lsp>=1.4.0->jupyterlab-lsp) (6.4.4)\n",
      "Requirement already satisfied: anyio<4,>=3.1.0 in /Users/imadahmad/opt/anaconda3/lib/python3.9/site-packages (from jupyter-server>=1.1.2->jupyter-lsp>=1.4.0->jupyterlab-lsp) (3.5.0)\n",
      "Requirement already satisfied: traitlets>=5 in /Users/imadahmad/opt/anaconda3/lib/python3.9/site-packages (from jupyter-server>=1.1.2->jupyter-lsp>=1.4.0->jupyterlab-lsp) (5.1.1)\n",
      "Requirement already satisfied: packaging in /Users/imadahmad/opt/anaconda3/lib/python3.9/site-packages (from jupyter-server>=1.1.2->jupyter-lsp>=1.4.0->jupyterlab-lsp) (21.3)\n",
      "Requirement already satisfied: websocket-client in /Users/imadahmad/opt/anaconda3/lib/python3.9/site-packages (from jupyter-server>=1.1.2->jupyter-lsp>=1.4.0->jupyterlab-lsp) (0.58.0)\n",
      "Requirement already satisfied: terminado>=0.8.3 in /Users/imadahmad/opt/anaconda3/lib/python3.9/site-packages (from jupyter-server>=1.1.2->jupyter-lsp>=1.4.0->jupyterlab-lsp) (0.13.1)\n",
      "Requirement already satisfied: prometheus-client in /Users/imadahmad/opt/anaconda3/lib/python3.9/site-packages (from jupyter-server>=1.1.2->jupyter-lsp>=1.4.0->jupyterlab-lsp) (0.13.1)\n",
      "Requirement already satisfied: jinja2 in /Users/imadahmad/opt/anaconda3/lib/python3.9/site-packages (from jupyter-server>=1.1.2->jupyter-lsp>=1.4.0->jupyterlab-lsp) (2.11.3)\n",
      "Requirement already satisfied: pyzmq>=17 in /Users/imadahmad/opt/anaconda3/lib/python3.9/site-packages (from jupyter-server>=1.1.2->jupyter-lsp>=1.4.0->jupyterlab-lsp) (22.3.0)\n",
      "Requirement already satisfied: sniffio>=1.1 in /Users/imadahmad/opt/anaconda3/lib/python3.9/site-packages (from anyio<4,>=3.1.0->jupyter-server>=1.1.2->jupyter-lsp>=1.4.0->jupyterlab-lsp) (1.2.0)\n",
      "Requirement already satisfied: idna>=2.8 in /Users/imadahmad/opt/anaconda3/lib/python3.9/site-packages (from anyio<4,>=3.1.0->jupyter-server>=1.1.2->jupyter-lsp>=1.4.0->jupyterlab-lsp) (3.3)\n",
      "Requirement already satisfied: python-dateutil>=2.1 in /Users/imadahmad/opt/anaconda3/lib/python3.9/site-packages (from jupyter-client>=6.1.1->jupyter-server>=1.1.2->jupyter-lsp>=1.4.0->jupyterlab-lsp) (2.8.2)\n",
      "Requirement already satisfied: nbclassic~=0.2 in /Users/imadahmad/opt/anaconda3/lib/python3.9/site-packages (from jupyterlab<4.0.0a0,>=3.1.0->jupyterlab-lsp) (0.3.5)\n",
      "Requirement already satisfied: jupyterlab-server~=2.10 in /Users/imadahmad/opt/anaconda3/lib/python3.9/site-packages (from jupyterlab<4.0.0a0,>=3.1.0->jupyterlab-lsp) (2.10.3)\n",
      "Requirement already satisfied: ipython in /Users/imadahmad/opt/anaconda3/lib/python3.9/site-packages (from jupyterlab<4.0.0a0,>=3.1.0->jupyterlab-lsp) (8.2.0)\n",
      "Requirement already satisfied: MarkupSafe>=0.23 in /Users/imadahmad/opt/anaconda3/lib/python3.9/site-packages (from jinja2->jupyter-server>=1.1.2->jupyter-lsp>=1.4.0->jupyterlab-lsp) (2.0.1)\n",
      "Requirement already satisfied: jsonschema>=3.0.1 in /Users/imadahmad/opt/anaconda3/lib/python3.9/site-packages (from jupyterlab-server~=2.10->jupyterlab<4.0.0a0,>=3.1.0->jupyterlab-lsp) (4.4.0)\n",
      "Requirement already satisfied: json5 in /Users/imadahmad/opt/anaconda3/lib/python3.9/site-packages (from jupyterlab-server~=2.10->jupyterlab<4.0.0a0,>=3.1.0->jupyterlab-lsp) (0.9.6)\n",
      "Requirement already satisfied: requests in /Users/imadahmad/opt/anaconda3/lib/python3.9/site-packages (from jupyterlab-server~=2.10->jupyterlab<4.0.0a0,>=3.1.0->jupyterlab-lsp) (2.27.1)\n",
      "Requirement already satisfied: babel in /Users/imadahmad/opt/anaconda3/lib/python3.9/site-packages (from jupyterlab-server~=2.10->jupyterlab<4.0.0a0,>=3.1.0->jupyterlab-lsp) (2.9.1)\n",
      "Requirement already satisfied: pyrsistent!=0.17.0,!=0.17.1,!=0.17.2,>=0.14.0 in /Users/imadahmad/opt/anaconda3/lib/python3.9/site-packages (from jsonschema>=3.0.1->jupyterlab-server~=2.10->jupyterlab<4.0.0a0,>=3.1.0->jupyterlab-lsp) (0.18.0)\n",
      "Requirement already satisfied: attrs>=17.4.0 in /Users/imadahmad/opt/anaconda3/lib/python3.9/site-packages (from jsonschema>=3.0.1->jupyterlab-server~=2.10->jupyterlab<4.0.0a0,>=3.1.0->jupyterlab-lsp) (21.4.0)\n",
      "Requirement already satisfied: notebook<7 in /Users/imadahmad/opt/anaconda3/lib/python3.9/site-packages (from nbclassic~=0.2->jupyterlab<4.0.0a0,>=3.1.0->jupyterlab-lsp) (6.4.8)\n",
      "Requirement already satisfied: ipykernel in /Users/imadahmad/opt/anaconda3/lib/python3.9/site-packages (from notebook<7->nbclassic~=0.2->jupyterlab<4.0.0a0,>=3.1.0->jupyterlab-lsp) (6.9.1)\n",
      "Requirement already satisfied: nest-asyncio>=1.5 in /Users/imadahmad/opt/anaconda3/lib/python3.9/site-packages (from notebook<7->nbclassic~=0.2->jupyterlab<4.0.0a0,>=3.1.0->jupyterlab-lsp) (1.5.5)\n",
      "Requirement already satisfied: six>=1.5 in /Users/imadahmad/opt/anaconda3/lib/python3.9/site-packages (from python-dateutil>=2.1->jupyter-client>=6.1.1->jupyter-server>=1.1.2->jupyter-lsp>=1.4.0->jupyterlab-lsp) (1.16.0)\n",
      "Requirement already satisfied: ptyprocess in /Users/imadahmad/opt/anaconda3/lib/python3.9/site-packages (from terminado>=0.8.3->jupyter-server>=1.1.2->jupyter-lsp>=1.4.0->jupyterlab-lsp) (0.7.0)\n",
      "Requirement already satisfied: argon2-cffi-bindings in /Users/imadahmad/opt/anaconda3/lib/python3.9/site-packages (from argon2-cffi->jupyter-server>=1.1.2->jupyter-lsp>=1.4.0->jupyterlab-lsp) (21.2.0)\n",
      "Requirement already satisfied: cffi>=1.0.1 in /Users/imadahmad/opt/anaconda3/lib/python3.9/site-packages (from argon2-cffi-bindings->argon2-cffi->jupyter-server>=1.1.2->jupyter-lsp>=1.4.0->jupyterlab-lsp) (1.15.0)\n",
      "Requirement already satisfied: pycparser in /Users/imadahmad/opt/anaconda3/lib/python3.9/site-packages (from cffi>=1.0.1->argon2-cffi-bindings->argon2-cffi->jupyter-server>=1.1.2->jupyter-lsp>=1.4.0->jupyterlab-lsp) (2.21)\n",
      "Requirement already satisfied: pytz>=2015.7 in /Users/imadahmad/opt/anaconda3/lib/python3.9/site-packages (from babel->jupyterlab-server~=2.10->jupyterlab<4.0.0a0,>=3.1.0->jupyterlab-lsp) (2021.3)\n",
      "Requirement already satisfied: debugpy<2.0,>=1.0.0 in /Users/imadahmad/opt/anaconda3/lib/python3.9/site-packages (from ipykernel->notebook<7->nbclassic~=0.2->jupyterlab<4.0.0a0,>=3.1.0->jupyterlab-lsp) (1.5.1)\n",
      "Requirement already satisfied: appnope in /Users/imadahmad/opt/anaconda3/lib/python3.9/site-packages (from ipykernel->notebook<7->nbclassic~=0.2->jupyterlab<4.0.0a0,>=3.1.0->jupyterlab-lsp) (0.1.2)\n",
      "Requirement already satisfied: matplotlib-inline<0.2.0,>=0.1.0 in /Users/imadahmad/opt/anaconda3/lib/python3.9/site-packages (from ipykernel->notebook<7->nbclassic~=0.2->jupyterlab<4.0.0a0,>=3.1.0->jupyterlab-lsp) (0.1.2)\n",
      "Requirement already satisfied: jedi>=0.16 in /Users/imadahmad/opt/anaconda3/lib/python3.9/site-packages (from ipython->jupyterlab<4.0.0a0,>=3.1.0->jupyterlab-lsp) (0.18.1)\n",
      "Requirement already satisfied: pickleshare in /Users/imadahmad/opt/anaconda3/lib/python3.9/site-packages (from ipython->jupyterlab<4.0.0a0,>=3.1.0->jupyterlab-lsp) (0.7.5)\n",
      "Requirement already satisfied: pexpect>4.3 in /Users/imadahmad/opt/anaconda3/lib/python3.9/site-packages (from ipython->jupyterlab<4.0.0a0,>=3.1.0->jupyterlab-lsp) (4.8.0)\n",
      "Requirement already satisfied: prompt-toolkit!=3.0.0,!=3.0.1,<3.1.0,>=2.0.0 in /Users/imadahmad/opt/anaconda3/lib/python3.9/site-packages (from ipython->jupyterlab<4.0.0a0,>=3.1.0->jupyterlab-lsp) (3.0.20)\n",
      "Requirement already satisfied: setuptools>=18.5 in /Users/imadahmad/opt/anaconda3/lib/python3.9/site-packages (from ipython->jupyterlab<4.0.0a0,>=3.1.0->jupyterlab-lsp) (61.2.0)\n",
      "Requirement already satisfied: stack-data in /Users/imadahmad/opt/anaconda3/lib/python3.9/site-packages (from ipython->jupyterlab<4.0.0a0,>=3.1.0->jupyterlab-lsp) (0.2.0)\n",
      "Requirement already satisfied: pygments>=2.4.0 in /Users/imadahmad/opt/anaconda3/lib/python3.9/site-packages (from ipython->jupyterlab<4.0.0a0,>=3.1.0->jupyterlab-lsp) (2.11.2)\n",
      "Requirement already satisfied: decorator in /Users/imadahmad/opt/anaconda3/lib/python3.9/site-packages (from ipython->jupyterlab<4.0.0a0,>=3.1.0->jupyterlab-lsp) (5.1.1)\n",
      "Requirement already satisfied: backcall in /Users/imadahmad/opt/anaconda3/lib/python3.9/site-packages (from ipython->jupyterlab<4.0.0a0,>=3.1.0->jupyterlab-lsp) (0.2.0)\n",
      "Requirement already satisfied: parso<0.9.0,>=0.8.0 in /Users/imadahmad/opt/anaconda3/lib/python3.9/site-packages (from jedi>=0.16->ipython->jupyterlab<4.0.0a0,>=3.1.0->jupyterlab-lsp) (0.8.3)\n",
      "Requirement already satisfied: wcwidth in /Users/imadahmad/opt/anaconda3/lib/python3.9/site-packages (from prompt-toolkit!=3.0.0,!=3.0.1,<3.1.0,>=2.0.0->ipython->jupyterlab<4.0.0a0,>=3.1.0->jupyterlab-lsp) (0.2.5)\n",
      "Requirement already satisfied: bleach in /Users/imadahmad/opt/anaconda3/lib/python3.9/site-packages (from nbconvert->jupyter-server>=1.1.2->jupyter-lsp>=1.4.0->jupyterlab-lsp) (4.1.0)\n",
      "Requirement already satisfied: jupyterlab-pygments in /Users/imadahmad/opt/anaconda3/lib/python3.9/site-packages (from nbconvert->jupyter-server>=1.1.2->jupyter-lsp>=1.4.0->jupyterlab-lsp) (0.1.2)\n",
      "Requirement already satisfied: pandocfilters>=1.4.1 in /Users/imadahmad/opt/anaconda3/lib/python3.9/site-packages (from nbconvert->jupyter-server>=1.1.2->jupyter-lsp>=1.4.0->jupyterlab-lsp) (1.5.0)\n",
      "Requirement already satisfied: defusedxml in /Users/imadahmad/opt/anaconda3/lib/python3.9/site-packages (from nbconvert->jupyter-server>=1.1.2->jupyter-lsp>=1.4.0->jupyterlab-lsp) (0.7.1)\n",
      "Requirement already satisfied: mistune<2,>=0.8.1 in /Users/imadahmad/opt/anaconda3/lib/python3.9/site-packages (from nbconvert->jupyter-server>=1.1.2->jupyter-lsp>=1.4.0->jupyterlab-lsp) (0.8.4)\n",
      "Requirement already satisfied: testpath in /Users/imadahmad/opt/anaconda3/lib/python3.9/site-packages (from nbconvert->jupyter-server>=1.1.2->jupyter-lsp>=1.4.0->jupyterlab-lsp) (0.5.0)\n",
      "Requirement already satisfied: beautifulsoup4 in /Users/imadahmad/opt/anaconda3/lib/python3.9/site-packages (from nbconvert->jupyter-server>=1.1.2->jupyter-lsp>=1.4.0->jupyterlab-lsp) (4.11.1)\n",
      "Requirement already satisfied: nbclient<0.6.0,>=0.5.0 in /Users/imadahmad/opt/anaconda3/lib/python3.9/site-packages (from nbconvert->jupyter-server>=1.1.2->jupyter-lsp>=1.4.0->jupyterlab-lsp) (0.5.13)\n",
      "Requirement already satisfied: fastjsonschema in /Users/imadahmad/opt/anaconda3/lib/python3.9/site-packages (from nbformat->jupyter-server>=1.1.2->jupyter-lsp>=1.4.0->jupyterlab-lsp) (2.15.1)\n",
      "Requirement already satisfied: soupsieve>1.2 in /Users/imadahmad/opt/anaconda3/lib/python3.9/site-packages (from beautifulsoup4->nbconvert->jupyter-server>=1.1.2->jupyter-lsp>=1.4.0->jupyterlab-lsp) (2.3.1)\n",
      "Requirement already satisfied: webencodings in /Users/imadahmad/opt/anaconda3/lib/python3.9/site-packages (from bleach->nbconvert->jupyter-server>=1.1.2->jupyter-lsp>=1.4.0->jupyterlab-lsp) (0.5.1)\n",
      "Requirement already satisfied: pyparsing!=3.0.5,>=2.0.2 in /Users/imadahmad/opt/anaconda3/lib/python3.9/site-packages (from packaging->jupyter-server>=1.1.2->jupyter-lsp>=1.4.0->jupyterlab-lsp) (3.0.4)\n",
      "Requirement already satisfied: urllib3<1.27,>=1.21.1 in /Users/imadahmad/opt/anaconda3/lib/python3.9/site-packages (from requests->jupyterlab-server~=2.10->jupyterlab<4.0.0a0,>=3.1.0->jupyterlab-lsp) (1.26.9)\n",
      "Requirement already satisfied: charset-normalizer~=2.0.0 in /Users/imadahmad/opt/anaconda3/lib/python3.9/site-packages (from requests->jupyterlab-server~=2.10->jupyterlab<4.0.0a0,>=3.1.0->jupyterlab-lsp) (2.0.4)\n",
      "Requirement already satisfied: certifi>=2017.4.17 in /Users/imadahmad/opt/anaconda3/lib/python3.9/site-packages (from requests->jupyterlab-server~=2.10->jupyterlab<4.0.0a0,>=3.1.0->jupyterlab-lsp) (2021.10.8)\n",
      "Requirement already satisfied: asttokens in /Users/imadahmad/opt/anaconda3/lib/python3.9/site-packages (from stack-data->ipython->jupyterlab<4.0.0a0,>=3.1.0->jupyterlab-lsp) (2.0.5)\n",
      "Requirement already satisfied: executing in /Users/imadahmad/opt/anaconda3/lib/python3.9/site-packages (from stack-data->ipython->jupyterlab<4.0.0a0,>=3.1.0->jupyterlab-lsp) (0.8.3)\n",
      "Requirement already satisfied: pure-eval in /Users/imadahmad/opt/anaconda3/lib/python3.9/site-packages (from stack-data->ipython->jupyterlab<4.0.0a0,>=3.1.0->jupyterlab-lsp) (0.2.2)\n",
      "Installing collected packages: jupyter-lsp, jupyterlab-lsp\n",
      "Successfully installed jupyter-lsp-1.5.1 jupyterlab-lsp-3.10.2\n",
      "Note: you may need to restart the kernel to use updated packages.\n"
     ]
    }
   ],
   "source": [
    "pip install jupyterlab-lsp"
   ]
  },
  {
   "cell_type": "markdown",
   "id": "671b4596-12fe-4dc6-808d-98e19e4b4fe1",
   "metadata": {},
   "source": [
    "### Step 2: Assign proper data types to columns, and add columns for "
   ]
  },
  {
   "cell_type": "code",
   "execution_count": null,
   "id": "6cf2d4bb-86c3-4b9d-a671-5ea1a4bcb86d",
   "metadata": {},
   "outputs": [],
   "source": []
  },
  {
   "cell_type": "code",
   "execution_count": null,
   "id": "f3f34de0-56f3-4236-babb-4efb9fb19cce",
   "metadata": {},
   "outputs": [],
   "source": []
  },
  {
   "cell_type": "code",
   "execution_count": null,
   "id": "4838ec90-5eb4-4d00-aa47-2e190dffc39e",
   "metadata": {},
   "outputs": [],
   "source": []
  },
  {
   "cell_type": "code",
   "execution_count": null,
   "id": "a910d2d8-fffb-48ad-abc6-ae6b1abbf356",
   "metadata": {},
   "outputs": [],
   "source": []
  },
  {
   "cell_type": "code",
   "execution_count": null,
   "id": "ae9b7025-0682-4819-adb0-65e977ba7e28",
   "metadata": {},
   "outputs": [],
   "source": []
  },
  {
   "cell_type": "code",
   "execution_count": null,
   "id": "05b0318a-785f-498a-a8b6-0f1fe3b63365",
   "metadata": {},
   "outputs": [],
   "source": []
  },
  {
   "cell_type": "markdown",
   "id": "c3d32c4d-cb9d-4994-a553-a9ab44b07f93",
   "metadata": {},
   "source": [
    "# Analysis"
   ]
  },
  {
   "cell_type": "markdown",
   "id": "249cc8de-c9a7-44d3-a016-7e64799a325a",
   "metadata": {},
   "source": [
    "# Conclusion"
   ]
  },
  {
   "cell_type": "markdown",
   "id": "95b39338-63bc-4257-8bc7-c9a64b18f6e7",
   "metadata": {},
   "source": [
    "## References"
   ]
  },
  {
   "cell_type": "code",
   "execution_count": null,
   "id": "0449fd26-a7d7-4b84-82df-80c58b8a8a0b",
   "metadata": {},
   "outputs": [],
   "source": []
  }
 ],
 "metadata": {
  "kernelspec": {
   "display_name": "Python 3 (ipykernel)",
   "language": "python",
   "name": "python3"
  },
  "language_info": {
   "codemirror_mode": {
    "name": "ipython",
    "version": 3
   },
   "file_extension": ".py",
   "mimetype": "text/x-python",
   "name": "python",
   "nbconvert_exporter": "python",
   "pygments_lexer": "ipython3",
   "version": "3.9.12"
  }
 },
 "nbformat": 4,
 "nbformat_minor": 5
}
